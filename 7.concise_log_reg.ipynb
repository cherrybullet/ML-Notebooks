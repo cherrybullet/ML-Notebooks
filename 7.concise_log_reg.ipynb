{
 "cells": [
  {
   "attachments": {},
   "cell_type": "markdown",
   "metadata": {},
   "source": [
    "## Concise Logistic Regression for Image Classification\n",
    "\n",
    "- Shows a concise implementation of logistic regression for image classification\n",
    "- Uses PyTorch"
   ]
  },
  {
   "cell_type": "code",
   "execution_count": 1,
   "metadata": {},
   "outputs": [],
   "source": [
    "# 导入\n",
    "import torch#安装torch库，支持在图形处理单元上计算张量\n",
    "import torchvision#tochvision主要处理图像数据，包含一些常用的数据集、模型、转换函数等\n",
    "import torch.nn as nn#nn包含了众多神经网络的常用模块\n",
    "from torchvision import datasets, models, transforms#提供常用的数据预处理操作，主要包括对Tensor及PIL Image对象的操作\n",
    "import os#导入os模块到当前程序\n",
    "import numpy as np#用来处理数据或矩阵的库\n",
    "import matplotlib.pyplot as plt\n",
    "#当进行绘图时，或生成一个 figure 画布的时候，可以直接在你的python控制台里面生成图像\n",
    "%matplotlib inline\n",
    "\n",
    "# gpu空闲的话，使用它\n",
    "device = torch.device(\"cuda:0\" if torch.cuda.is_available() else \"cpu\")"
   ]
  },
  {
   "cell_type": "code",
   "execution_count": null,
   "metadata": {},
   "outputs": [],
   "source": [
    "# download the data (uncomment if to download the data locally)\n",
    "#!wget https://download.pytorch.org/tutorial/hymenoptera_data.zip\n",
    "#!unzip hymenoptera_data.zip"
   ]
  },
  {
   "cell_type": "code",
   "execution_count": 2,
   "metadata": {},
   "outputs": [],
   "source": [
    "# 创建数据加载器\n",
    "\n",
    "data_dir = 'hymenoptera_data'#一个用于pytorch的小型数据集\n",
    "\n",
    "# 自定义转换器来压平图像张量\n",
    "class ReshapeTransform:\n",
    "    def __init__(self, new_size):\n",
    "        self.new_size = new_size#数组的列\n",
    "\n",
    "    def __call__(self, img):\n",
    "        result = torch.reshape(img, self.new_size)#将数组转换成一个img行new_size列的二维新数组\n",
    "        return result\n",
    "\n",
    "# 用于标准化和规范化数据集的转换\n",
    "data_transforms = {\n",
    "    'train': transforms.Compose([\n",
    "        transforms.Resize(224),#调整容器的长度大小，使其能容纳224个元素\n",
    "        transforms.CenterCrop(224),#裁剪图片，目标尺寸为224\n",
    "        transforms.ToTensor(),#将Python中的数据类型转换为PyTorch张量，这个张量可以用来训练机器学习模型\n",
    "        ReshapeTransform((-1,)) # 使数据变平\n",
    "    ]),\n",
    "    'val': transforms.Compose([\n",
    "        transforms.Resize(224),#调整容器的长度大小，使其能容纳224个元素\n",
    "        transforms.CenterCrop(224),#裁剪图片，目标尺寸为224\n",
    "        transforms.ToTensor(),#将Python中的数据类型转换为PyTorch张量，这个张量可以用来训练机器学习模型\n",
    "        ReshapeTransform((-1,)) # 使数据变平\n",
    "    ]),\n",
    "}\n",
    "\n",
    "# 加载相应的文件夹\n",
    "image_datasets = {x: datasets.ImageFolder(os.path.join(data_dir, x),#ImageFolder会将目录中的文件夹名自动转化成序列，每个文件夹下会存储相同的一个类别，文件夹名为类名\n",
    "                                          data_transforms[x])#join()方法用于把数组中的所有元素放入一个字符串\n",
    "                  for x in ['train', 'val']}\n",
    "\n",
    "# 加载整个数据集；我们这里不使用minibatches\n",
    "train_dataset = torch.utils.data.DataLoader(image_datasets['train'],#加载训练集\n",
    "                                            batch_size=len(image_datasets['train']),#训练集长度\n",
    "                                            shuffle=True)#shuffle=True用于打乱数据集,每次都会以不同的顺序返回\n",
    "\n",
    "test_dataset = torch.utils.data.DataLoader(image_datasets['val'],#加载测试集\n",
    "                                           batch_size=len(image_datasets['val']),#测试集长度\n",
    "                                           shuffle=True)#shuffle=True用于打乱数据集,每次都会以不同的顺序返回"
   ]
  },
  {
   "cell_type": "code",
   "execution_count": 3,
   "metadata": {},
   "outputs": [],
   "source": [
    "# 建立LR模型\n",
    "class LR(nn.Module):\n",
    "    def __init__(self, dim):\n",
    "        super(LR, self).__init__()#子类把父类的__init__()放到自己的__init__()当中，这样子类就有父类的__init__()的东西进行初始化。\n",
    "        self.linear = nn.Linear(dim, 1)#对输入的数据做线性变化\n",
    "        nn.init.zeros_(self.linear.weight)#用标量0来填充weight\n",
    "        nn.init.zeros_(self.linear.bias)#用标量0来填充bias\n",
    "\n",
    "    def forward(self, x):\n",
    "        x = self.linear(x)\n",
    "        x = torch.sigmoid(x)#将x压缩至(0,1)范围之间\n",
    "        return x "
   ]
  },
  {
   "cell_type": "code",
   "execution_count": 4,
   "metadata": {},
   "outputs": [],
   "source": [
    "# 预测函数\n",
    "def predict(yhat, y):\n",
    "    yhat = yhat.squeeze()#将yhat数组转换为秩为1的数组\n",
    "    y = y.unsqueeze(0)#增加维度(0表示,在第一个位置增加维度)\n",
    "    y_prediction = torch.zeros(y.size()[1])#生成和y第二行同样大小零矩阵\n",
    "    for i in range(yhat.shape[0]):#i遍历yhat的行数\n",
    "        if yhat[i] <= 0.5:#如果yhat数组第i个值小于等于0.5\n",
    "            y_prediction[i] = 0#预测结果置为0\n",
    "        else:#如果yhat数组第i个值大于0.5\n",
    "            y_prediction[i] = 1#预测结果置为1\n",
    "    return 100 - torch.mean(torch.abs(y_prediction - y)) * 100#根据公式计算准确率"
   ]
  },
  {
   "cell_type": "code",
   "execution_count": 5,
   "metadata": {},
   "outputs": [],
   "source": [
    "# 模型配置\n",
    "dim = train_dataset.dataset[0][0].shape[0]#dim取训练集第一个对象的行数\n",
    "\n",
    "lrmodel = LR(dim).to(device)#将所有最开始读取数据时的tensor变量copy一份到device所指定的GPU上去，之后的运算都在GPU上进行\n",
    "criterion = nn.BCELoss()#用来做二分类的损失函数\n",
    "optimizer = torch.optim.SGD(lrmodel.parameters(), lr=0.0001)#构建优化器，parameters()获取lrmodel网络的参数，学习率为0.0001"
   ]
  },
  {
   "cell_type": "code",
   "execution_count": 8,
   "metadata": {},
   "outputs": [
    {
     "name": "stdout",
     "output_type": "stream",
     "text": [
      "Cost after iteration 0: 0.6931471228599548 | Train Acc: 50.40983581542969 | Test Acc: 45.75163269042969\n",
      "Cost after iteration 10: 0.6691471338272095 | Train Acc: 64.3442611694336 | Test Acc: 54.24836730957031\n",
      "Cost after iteration 20: 0.6513182520866394 | Train Acc: 68.44261932373047 | Test Acc: 54.24836730957031\n",
      "Cost after iteration 30: 0.6367825269699097 | Train Acc: 68.03278350830078 | Test Acc: 54.24836730957031\n",
      "Cost after iteration 40: 0.6245337128639221 | Train Acc: 69.67213439941406 | Test Acc: 54.90196228027344\n",
      "Cost after iteration 50: 0.6139225363731384 | Train Acc: 70.90164184570312 | Test Acc: 56.20914840698242\n",
      "Cost after iteration 60: 0.6045235395431519 | Train Acc: 72.54098510742188 | Test Acc: 56.86274337768555\n",
      "Cost after iteration 70: 0.5960512161254883 | Train Acc: 74.18032836914062 | Test Acc: 57.51633834838867\n",
      "Cost after iteration 80: 0.5883084535598755 | Train Acc: 73.77049255371094 | Test Acc: 57.51633834838867\n",
      "Cost after iteration 90: 0.5811557769775391 | Train Acc: 74.59016418457031 | Test Acc: 58.1699333190918\n"
     ]
    }
   ],
   "source": [
    "# 训练模型\n",
    "costs = []\n",
    "\n",
    "for ITER in range(100):\n",
    "    lrmodel.train()#训练模型\n",
    "    #生成训练集的迭代器，next()函数将内部指针指向数组中的下一个元素,并输出\n",
    "    x, y = next(iter(train_dataset))#取训练集中可迭代对象的元素\n",
    "    test_x, test_y = next(iter(test_dataset))#取测试集中可迭代对象的元素\n",
    "\n",
    "    # 向前\n",
    "    yhat = lrmodel.forward(x.to(device))#正向传播，将模型参数放到gpu中\n",
    "\n",
    "    cost = criterion(yhat.squeeze(), y.type(torch.FloatTensor).to(device))#测量预测值与实际值之间差异\n",
    "    train_pred = predict(yhat, y)#对训练集进行预测\n",
    "\n",
    "    # 向后\n",
    "    optimizer.zero_grad()#将梯度清零\n",
    "    cost.backward()#反向传播\n",
    "    optimizer.step()#更新模型参数\n",
    "    \n",
    "    # 推理阶段\n",
    "    lrmodel.eval()#评估模式\n",
    "    #在评估模式下,batchNorm层,dropout层等用于优化训练而添加的网络层会被关闭,从而使得评估时不会发生偏移\n",
    "    with torch.no_grad():#张量的计算过程中无需计算梯度\n",
    "        yhat_test = lrmodel.forward(test_x.to(device))#反向传播测试集\n",
    "        test_pred = predict(yhat_test, test_y)#对测试集进行预测\n",
    "\n",
    "    if ITER % 10 == 0:#如果ITER是10的倍数\n",
    "        costs.append(cost)#则将cost添加到损失集内\n",
    "\n",
    "    if ITER % 10 == 0:#输出ITER为10的倍数时，损失、训练集准确率、测试集准确率\n",
    "        print(\"Cost after iteration {}: {} | Train Acc: {} | Test Acc: {}\".format(ITER, \n",
    "                                                                                    cost, \n",
    "                                                                                    train_pred,\n",
    "                                                                                    test_pred))\n",
    "   "
   ]
  },
  {
   "attachments": {},
   "cell_type": "markdown",
   "metadata": {},
   "source": [
    "### References\n",
    "- [A Logistic Regression Model from Scratch](https://colab.research.google.com/drive/1iBoJ0kngkOthy7SgVaVQA1aHEROt5mra?usp=sharing)"
   ]
  }
 ],
 "metadata": {
  "kernelspec": {
   "display_name": "Python 3.7.13 ('play')",
   "language": "python",
   "name": "python3"
  },
  "language_info": {
   "codemirror_mode": {
    "name": "ipython",
    "version": 3
   },
   "file_extension": ".py",
   "mimetype": "text/x-python",
   "name": "python",
   "nbconvert_exporter": "python",
   "pygments_lexer": "ipython3",
   "version": "3.7.13"
  },
  "orig_nbformat": 4,
  "vscode": {
   "interpreter": {
    "hash": "cf9800998463bc980d70cdbacff0c7e9a10687346dc898569e92f016d6e252c9"
   }
  }
 },
 "nbformat": 4,
 "nbformat_minor": 2
}
