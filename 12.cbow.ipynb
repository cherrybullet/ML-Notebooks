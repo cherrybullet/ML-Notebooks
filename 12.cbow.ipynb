{
 "cells": [
  {
   "attachments": {},
   "cell_type": "markdown",
   "metadata": {},
   "source": [
    "# Continuous Bag of Words (CBOW) Text Classifier\n",
    "\n",
    "The code below implements a continuous bag of words text classifier.\n",
    "- We tokenize the text, create a vocabulary and encode each piece of text in the dataset\n",
    "- The lookup allows for extracting embeddings for each tokenized input\n",
    "- The embedding vectors are added together\n",
    "- The resulting vector is multiplied with a weight matrix, which is then added a bias vector; this results in scores\n",
    "- The scores are applied a softmax to generate probabilities which are used for the final classification\n",
    "\n",
    "The code used in this notebook was inspired by code from the [official repo](https://github.com/neubig/nn4nlp-code) used in the [CMU Neural Networks for NLP class](http://www.phontron.com/class/nn4nlp2021/schedule.html) by [Graham Neubig](http://www.phontron.com/index.php). \n",
    "\n",
    "![img txt](../img/cbow.png?raw=true)"
   ]
  },
  {
   "cell_type": "code",
   "execution_count": 1,
   "metadata": {},
   "outputs": [],
   "source": [
    "import torch#安装torch库，支持在图形处理单元上计算张量\n",
    "import random#安装random库，用于产生各种分布的伪随机数序列\n",
    "import torch.nn as nn#加载神经网络常用模块"
   ]
  },
  {
   "cell_type": "code",
   "execution_count": null,
   "metadata": {},
   "outputs": [],
   "source": [
    "% % capture#可以隐藏单元格党的输出\n",
    "'''取消注释符下载数据\n",
    "#下载文件\n",
    "!wget https://raw.githubusercontent.com/neubig/nn4nlp-code/master/data/classes/dev.txt\n",
    "!wget https://raw.githubusercontent.com/neubig/nn4nlp-code/master/data/classes/test.txt\n",
    "!wget https://raw.githubusercontent.com/neubig/nn4nlp-code/master/data/classes/train.txt\n",
    "\n",
    "#创建数据文件夹\n",
    "!mkdir data data/classes\n",
    "!cp dev.txt data/classes\n",
    "!cp test.txt data/classes\n",
    "!cp train.txt data/classes\n",
    "'''"
   ]
  },
  {
   "attachments": {},
   "cell_type": "markdown",
   "metadata": {},
   "source": [
    "## Read and Process Data"
   ]
  },
  {
   "cell_type": "code",
   "execution_count": 2,
   "metadata": {},
   "outputs": [],
   "source": [
    "#函数读取数据，处理每一行并按“|||”分割列\n",
    "def read_data(filename):#函数读取数据，处理每一行\n",
    "    data = []#初始化数据列表\n",
    "    with open(filename, 'r') as f:#读取filename文件到f中\n",
    "        for line in f:#逐行打印f文件\n",
    "            line = line.lower().strip()#将读取数据的所有字符小写，并去除两端的空格或者制表符、换行符等无效字符\n",
    "            line = line.split(' ||| ')#按“|||”分割列\n",
    "            data.append(line)#将读取的数据添加到数据列表中\n",
    "    return data#返回读取后的数据列表\n",
    "\n",
    "train_data = read_data('data/classes/train.txt')#保存到训练数据集\n",
    "test_data = read_data('data/classes/test.txt')#保存到测试数据集\n",
    "\n",
    "word_to_index = {}#创建单词索引列表\n",
    "word_to_index[\"<unk>\"] = len(word_to_index)#添加<UNK>到字典\n",
    "tag_to_index = {}#创建标签索引列表\n",
    "\n",
    "def create_dict(data, check_unk=False):#根据数据创建单词到索引字典和标记到索引字典\n",
    "    for line in data:#逐行迭代\n",
    "        for word in line[1].split(\" \"):\n",
    "            if check_unk == False:\n",
    "                if word not in word_to_index:#如果word在字典里\n",
    "                    word_to_index[word] = len(word_to_index)#添加word到字典中\n",
    "            else:\n",
    "                if word not in word_to_index:#如果word不在字典里\n",
    "                    word_to_index[word] = word_to_index[\"<unk>\"]#添加<UNK>到字典\n",
    "\n",
    "        if line[0] not in tag_to_index:#检查第一行\n",
    "            tag_to_index[line[0]] = len(tag_to_index)\n",
    "\n",
    "create_dict(train_data)#创建训练数据字典\n",
    "create_dict(test_data, check_unk=True)#创建测试数据字典\n",
    "\n",
    "def create_tensor(data):#根据数据创建单词和标记张量\n",
    "    for line in data:\n",
    "        yield ([word_to_index[word] for word in line[1].split(\" \")], tag_to_index[line[0]])\n",
    "\n",
    "train_data = list(create_tensor(train_data))#创建训练数据张量\n",
    "test_data = list(create_tensor(test_data))#创建测试数据张量\n",
    "\n",
    "number_of_words = len(word_to_index)#单词个数\n",
    "number_of_tags = len(tag_to_index)#标签个数"
   ]
  },
  {
   "attachments": {},
   "cell_type": "markdown",
   "metadata": {},
   "source": [
    "## Model"
   ]
  },
  {
   "cell_type": "code",
   "execution_count": 1,
   "metadata": {},
   "outputs": [
    {
     "ename": "NameError",
     "evalue": "name 'torch' is not defined",
     "output_type": "error",
     "traceback": [
      "\u001b[0;31m---------------------------------------------------------------------------\u001b[0m",
      "\u001b[0;31mNameError\u001b[0m                                 Traceback (most recent call last)",
      "\u001b[0;32m/tmp/ipykernel_3236/4002993260.py\u001b[0m in \u001b[0;36m<module>\u001b[0;34m\u001b[0m\n\u001b[1;32m      1\u001b[0m \u001b[0;31m# cpu or gpu\u001b[0m\u001b[0;34m\u001b[0m\u001b[0;34m\u001b[0m\u001b[0;34m\u001b[0m\u001b[0m\n\u001b[0;32m----> 2\u001b[0;31m \u001b[0mdevice\u001b[0m \u001b[0;34m=\u001b[0m \u001b[0;34m\"cuda\"\u001b[0m \u001b[0;32mif\u001b[0m \u001b[0mtorch\u001b[0m\u001b[0;34m.\u001b[0m\u001b[0mcuda\u001b[0m\u001b[0;34m.\u001b[0m\u001b[0mis_available\u001b[0m\u001b[0;34m(\u001b[0m\u001b[0;34m)\u001b[0m \u001b[0;32melse\u001b[0m \u001b[0;34m\"cpu\"\u001b[0m\u001b[0;34m\u001b[0m\u001b[0;34m\u001b[0m\u001b[0m\n\u001b[0m\u001b[1;32m      3\u001b[0m \u001b[0;34m\u001b[0m\u001b[0m\n\u001b[1;32m      4\u001b[0m \u001b[0;31m# create a simple neural network with embedding layer, bias, and xavier initialization\u001b[0m\u001b[0;34m\u001b[0m\u001b[0;34m\u001b[0m\u001b[0;34m\u001b[0m\u001b[0m\n\u001b[1;32m      5\u001b[0m \u001b[0;32mclass\u001b[0m \u001b[0mCBoW\u001b[0m\u001b[0;34m(\u001b[0m\u001b[0mtorch\u001b[0m\u001b[0;34m.\u001b[0m\u001b[0mnn\u001b[0m\u001b[0;34m.\u001b[0m\u001b[0mModule\u001b[0m\u001b[0;34m)\u001b[0m\u001b[0;34m:\u001b[0m\u001b[0;34m\u001b[0m\u001b[0;34m\u001b[0m\u001b[0m\n",
      "\u001b[0;31mNameError\u001b[0m: name 'torch' is not defined"
     ]
    }
   ],
   "source": [
    "# cpu or gpu\n",
    "device = \"cuda\" if torch.cuda.is_available() else \"cpu\"#检测当前计算机是否支持使用cuda，如果支持则将device变量设置为cuda，否则设置为cpu\n",
    "\n",
    "class CBoW(torch.nn.Module):#创建一个具有嵌入层、偏置和xavier初始化的简单神经网络\n",
    "    def __init__(self, nwords, ntags, emb_size):\n",
    "        super(CBoW, self).__init__()#初始化\n",
    "\n",
    "        #层\n",
    "        self.embedding = torch.nn.Embedding(nwords, emb_size)#词嵌入\n",
    "        self.linear = torch.nn.Linear(emb_size, ntags)#线性变换\n",
    "\n",
    "        #对权重使用xavier初始化\n",
    "        nn.init.xavier_uniform_(self.embedding.weight)\n",
    "        nn.init.xavier_uniform_(self.linear.weight)\n",
    "\n",
    "    def forward(self, x):#向前传播\n",
    "        emb = self.embedding(x)  # seq x emb_size\n",
    "        out = torch.sum(emb, dim=0)  # emb_size\n",
    "        out = out.view(1, -1)  # reshape to (1, emb_size)\n",
    "        out = self.linear(out)  # 1 x ntags\n",
    "        return out\n",
    "\n",
    "\n",
    "EMB_SIZE = 64\n",
    "model = CBoW(number_of_words, number_of_tags, EMB_SIZE)#加载连续词袋模型\n",
    "criterion = torch.nn.CrossEntropyLoss()#加载损失函数\n",
    "optimizer = torch.optim.Adam(model.parameters())#加载神经网络训练优化器\n",
    "type = torch.LongTensor#类型为32位浮点型张量\n",
    "\n",
    "if torch.cuda.is_available():#如果可以使用cuda\n",
    "    model.to(device)#模型加载到相应设备中\n",
    "    type = torch.cuda.LongTensor#类型为64位整型张量"
   ]
  },
  {
   "attachments": {},
   "cell_type": "markdown",
   "metadata": {},
   "source": [
    "## Train the Model"
   ]
  },
  {
   "cell_type": "code",
   "execution_count": 4,
   "metadata": {},
   "outputs": [
    {
     "name": "stdout",
     "output_type": "stream",
     "text": [
      "epoch: 1 | train loss/sent: 1.4111 | train accuracy: 0.3841 | test accuracy: 0.3982\n",
      "epoch: 2 | train loss/sent: 0.8886 | train accuracy: 0.6522 | test accuracy: 0.3991\n",
      "epoch: 3 | train loss/sent: 0.5147 | train accuracy: 0.8148 | test accuracy: 0.3950\n",
      "epoch: 4 | train loss/sent: 0.3200 | train accuracy: 0.8878 | test accuracy: 0.3796\n",
      "epoch: 5 | train loss/sent: 0.2148 | train accuracy: 0.9247 | test accuracy: 0.3738\n",
      "epoch: 6 | train loss/sent: 0.1536 | train accuracy: 0.9466 | test accuracy: 0.3783\n",
      "epoch: 7 | train loss/sent: 0.1097 | train accuracy: 0.9618 | test accuracy: 0.3638\n",
      "epoch: 8 | train loss/sent: 0.0797 | train accuracy: 0.9716 | test accuracy: 0.3692\n",
      "epoch: 9 | train loss/sent: 0.0568 | train accuracy: 0.9805 | test accuracy: 0.3661\n",
      "epoch: 10 | train loss/sent: 0.0435 | train accuracy: 0.9853 | test accuracy: 0.3529\n"
     ]
    }
   ],
   "source": [
    "#进行词袋模型的训练\n",
    "for epoch in range(10):\n",
    "    model.train()#模型进行训练\n",
    "    random.shuffle(train_data)#打乱训练数据的顺序\n",
    "    total_loss = 0.0#总损失\n",
    "    train_correct = 0#训练正确个数\n",
    "    for sentence, tag in train_data:\n",
    "        sentence = torch.tensor(sentence).type(type)#句子\n",
    "        tag = torch.tensor([tag]).type(type)#标签\n",
    "        output = model(sentence)#将句子构建成模型\n",
    "        predicted = torch.argmax(output.data.detach()).item()#这个数据模型中最大值的索引\n",
    "\n",
    "        loss = criterion(output, tag)#数据代入损失函数计算损失\n",
    "        total_loss += loss.item()#损失值加到总损失中\n",
    "\n",
    "        optimizer.zero_grad()#把loss关于weight的导数变成0\n",
    "        loss.backward()#反向传播求梯度\n",
    "        optimizer.step()#更新所有参数\n",
    "\n",
    "        if predicted == tag:#如果预测正确\n",
    "            train_correct += 1#训练正确个数+1\n",
    "\n",
    "    #对模型进行测试\n",
    "    model.eval()#评估模式\n",
    "    test_correct = 0#测试正确个数\n",
    "    for sentence, tag in test_data:\n",
    "        sentence = torch.tensor(sentence).type(type)#句子\n",
    "        output = model(sentence)#将句子构建成模型\n",
    "        predicted = torch.argmax(output.data.detach()).item()#这个数据模型中最大值的索引\n",
    "        if predicted == tag:#如果预测正确\n",
    "            test_correct += 1#测试正确个数+1\n",
    "\n",
    "    #打印模型性能结果\n",
    "    log = f'epoch: {epoch+1} | ' \\\n",
    "        f'train loss/sent: {total_loss/len(train_data):.4f} | ' \\\n",
    "        f'train accuracy: {train_correct/len(train_data):.4f} | ' \\\n",
    "        f'test accuracy: {test_correct/len(test_data):.4f}'\n",
    "    print(log)#打印模型性能结果，查看训练误差、训练和测试的准确率"
   ]
  }
 ],
 "metadata": {
  "kernelspec": {
   "display_name": "base",
   "language": "python",
   "name": "python3"
  },
  "language_info": {
   "codemirror_mode": {
    "name": "ipython",
    "version": 3
   },
   "file_extension": ".py",
   "mimetype": "text/x-python",
   "name": "python",
   "nbconvert_exporter": "python",
   "pygments_lexer": "ipython3",
   "version": "3.9.12"
  },
  "orig_nbformat": 4,
  "vscode": {
   "interpreter": {
    "hash": "d4d1e4263499bec80672ea0156c357c1ee493ec2b1c70f0acce89fc37c4a6abe"
   }
  }
 },
 "nbformat": 4,
 "nbformat_minor": 2
}
