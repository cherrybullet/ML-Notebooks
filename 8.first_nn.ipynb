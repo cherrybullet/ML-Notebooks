{
 "cells": [
  {
   "attachments": {},
   "cell_type": "markdown",
   "metadata": {},
   "source": [
    "## First Neural Network: Image Classification \n",
    "\n",
    "Objectives:\n",
    "- Train a minimal image classifier on [MNIST](https://paperswithcode.com/dataset/mnist) using PyTorch\n",
    "- Usese PyTorch and torchvision"
   ]
  },
  {
   "cell_type": "code",
   "execution_count": 1,
   "metadata": {},
   "outputs": [],
   "source": [
    "# 导入\n",
    "import torch#安装torch库，支持在图形处理单元上计算张量\n",
    "import torch.nn as nn#加载神经网络的常用模块\n",
    "import torchvision#tochvision主要处理图像数据，包含一些常用的数据集、模型、转换函数等\n",
    "import torchvision.transforms as transforms#提供了一系列的变换函数,可以通过组合这些函数来实现各种复杂的变换操作"
   ]
  },
  {
   "cell_type": "code",
   "execution_count": 2,
   "metadata": {},
   "outputs": [],
   "source": [
    "# 加载数据\n",
    "class ReshapeTransform:\n",
    "    def __init__(self, new_size):\n",
    "        self.new_size = new_size#赋初值\n",
    "\n",
    "    def __call__(self, img):\n",
    "        return torch.reshape(img, self.new_size)#改变img的大小为new_size\n",
    "\n",
    "transformations = transforms.Compose([#图像预处理\n",
    "                                transforms.ToTensor(),#把一个取值范围是[0,255]的PIL.Image或者shape为(H,W,C)的numpy.ndarray，转换成形状为[C,H,W]，取值范围是[0,1.0]的torch.FloadTensor\n",
    "                                transforms.ConvertImageDtype(torch.float32),#输出的所需数据类型为浮点型32位\n",
    "                                ReshapeTransform((-1,))#改变将输入Tensor的事件形状\n",
    "                                ])\n",
    "\n",
    "trainset = torchvision.datasets.MNIST(root='./data', train=True,#加载mnist数据集，从./data获取数据，train=True则为训练集\n",
    "                                        download=True, transform=transformations)#对图像预处理\n",
    "\n",
    "testset = torchvision.datasets.MNIST(root='./data', train=False,#加载mnist数据集，train=False则为测试集\n",
    "                                       download=True, transform=transformations)#对图像预处理"
   ]
  },
  {
   "cell_type": "code",
   "execution_count": 3,
   "metadata": {},
   "outputs": [
    {
     "data": {
      "text/plain": [
       "(torch.Size([60000, 28, 28]), torch.Size([10000, 28, 28]))"
      ]
     },
     "execution_count": 3,
     "metadata": {},
     "output_type": "execute_result"
    }
   ],
   "source": [
    "# 检查数据shape\n",
    "trainset.data.shape, testset.data.shape#查看数据大小"
   ]
  },
  {
   "cell_type": "code",
   "execution_count": 4,
   "metadata": {},
   "outputs": [],
   "source": [
    "# 数据加载器\n",
    "BATCH_SIZE = 128#一次参数学习所使用的样本数量为128\n",
    "train_dataloader = torch.utils.data.DataLoader(trainset, #包装训练集数据\n",
    "                                               batch_size=BATCH_SIZE,#批训练样本大小\n",
    "                                               shuffle=True, #每次迭代训练时将数据洗牌\n",
    "                                               num_workers=0)#使用num_workers个子进程来导入数据，0时使用主进程来导入数据\n",
    "\n",
    "test_dataloader = torch.utils.data.DataLoader(testset, #包装测试集数据\n",
    "                                              batch_size=BATCH_SIZE,#批训练样本大小\n",
    "                                              shuffle=False, #每次迭代训练时不需要将数据洗牌\n",
    "                                              num_workers=0)#使用num_workers个子进程来导入数据，0时使用主进程来导入数据"
   ]
  },
  {
   "cell_type": "code",
   "execution_count": 5,
   "metadata": {},
   "outputs": [],
   "source": [
    "# 模型\n",
    "model = nn.Sequential(nn.Linear(784, 512), nn.ReLU(), nn.Linear(512, 10))#进行网络构建\n",
    "#我们所要构造的MLP是一个两层的网络，其中输入784个元素，隐藏层有512个单元，输出为10个标签，ReLU()使用激活函数"
   ]
  },
  {
   "cell_type": "code",
   "execution_count": 6,
   "metadata": {},
   "outputs": [],
   "source": [
    "# 训练准备\n",
    "trainer = torch.optim.RMSprop(model.parameters())#定义优化器\n",
    "loss = nn.CrossEntropyLoss()#交叉熵损失函数作为损失函数来优化模型，通过度量两个概率分布的差异性的，来衡量模型学习到的分布和真实分布的差异"
   ]
  },
  {
   "cell_type": "code",
   "execution_count": 7,
   "metadata": {},
   "outputs": [],
   "source": [
    "def get_accuracy(output, target, batch_size):#获得训练轮次的准确性\n",
    "    corrects = (torch.max(output, 1)[1].view(target.size()).data == target.data).sum()#通过公式，计算训练正确个数\n",
    "    accuracy = 100.0 * corrects/batch_size#准确率为正确个数/样本大小*100%\n",
    "    return accuracy.item()#返回准确率取值"
   ]
  },
  {
   "cell_type": "code",
   "execution_count": 8,
   "metadata": {},
   "outputs": [
    {
     "name": "stdout",
     "output_type": "stream",
     "text": [
      "Epoch: 1 | Train loss: 0.9943 | Train Accuracy: 91.7344\n",
      "Epoch: 2 | Train loss: 0.1334 | Train Accuracy: 95.9422\n",
      "Epoch: 3 | Train loss: 0.1030 | Train Accuracy: 96.8767\n",
      "Epoch: 4 | Train loss: 0.0845 | Train Accuracy: 97.4997\n",
      "Epoch: 5 | Train loss: 0.0735 | Train Accuracy: 97.8811\n"
     ]
    }
   ],
   "source": [
    "# 训练\n",
    "for ITER in range(5):\n",
    "    train_acc = 0.0#训练精度\n",
    "    train_running_loss = 0.0#训练损失\n",
    "\n",
    "    model.train()#模型训练\n",
    "    for i, (X, y) in enumerate(train_dataloader):#批处理训练数据\n",
    "        output = model(X)\n",
    "        l = loss(output, y)#损失\n",
    "\n",
    "        # 更新参数\n",
    "        l.backward()#反向传播\n",
    "        trainer.step()#以求得的导数和，结合优化器，更新参数，然后进行下一批次的训练\n",
    "        trainer.zero_grad()#梯度清零\n",
    "\n",
    "        # 收集度量\n",
    "        train_acc += get_accuracy(output, y, BATCH_SIZE)#训练准确性加到训练精度上\n",
    "        train_running_loss += l.detach().item()#不需要梯度回传的部分加到训练损失上\n",
    "\n",
    "    print('Epoch: %d | Train loss: %.4f | Train Accuracy: %.4f' \\\n",
    "          %(ITER+1, train_running_loss / (i+1),train_acc/(i+1)))#打印每轮次训练的损失和精确度"
   ]
  },
  {
   "attachments": {},
   "cell_type": "markdown",
   "metadata": {},
   "source": [
    "### Other things to try\n",
    "\n",
    "- Evaluate on test set\n",
    "- Plot loss curve\n",
    "- Add more layers to the model"
   ]
  }
 ],
 "metadata": {
  "kernelspec": {
   "display_name": "Python 3.7.13 ('play')",
   "language": "python",
   "name": "python3"
  },
  "language_info": {
   "codemirror_mode": {
    "name": "ipython",
    "version": 3
   },
   "file_extension": ".py",
   "mimetype": "text/x-python",
   "name": "python",
   "nbconvert_exporter": "python",
   "pygments_lexer": "ipython3",
   "version": "3.7.13"
  },
  "orig_nbformat": 4,
  "vscode": {
   "interpreter": {
    "hash": "cf9800998463bc980d70cdbacff0c7e9a10687346dc898569e92f016d6e252c9"
   }
  }
 },
 "nbformat": 4,
 "nbformat_minor": 2
}
