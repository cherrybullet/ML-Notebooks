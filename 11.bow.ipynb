{
 "cells": [
  {
   "attachments": {},
   "cell_type": "markdown",
   "metadata": {},
   "source": [
    "# Bag of Words Text Classifier\n",
    "\n",
    "The code below implements a simple bag of words text classifier.\n",
    "- We tokenize the text, create a vocabulary and encode each piece of text in the dataset\n",
    "- The lookup allows for extracting embeddings for each tokenized inputs\n",
    "- The embedding vectors are added together with a bias vector\n",
    "- The resulting vector is referred to as the scores\n",
    "- The score are applied a softmax to generate probabilities which are used for the classification task\n",
    "\n",
    "The code used in this notebook was inspired by code from the [official repo](https://github.com/neubig/nn4nlp-code) used in the [CMU Neural Networks for NLP class](http://www.phontron.com/class/nn4nlp2021/schedule.html) by [Graham Neubig](http://www.phontron.com/index.php). \n",
    "\n",
    "![img txt](../img/bow.png?raw=true)"
   ]
  },
  {
   "cell_type": "code",
   "execution_count": 4,
   "metadata": {},
   "outputs": [],
   "source": [
    "import torch#安装torch库，支持在图形处理单元上计算张量\n",
    "import random#安装random库，用于产生各种分布的伪随机数序列\n",
    "import torch.nn as nn#加载神经网络常用模块"
   ]
  },
  {
   "attachments": {},
   "cell_type": "markdown",
   "metadata": {},
   "source": [
    "### Download the Data"
   ]
  },
  {
   "cell_type": "code",
   "execution_count": 2,
   "metadata": {},
   "outputs": [],
   "source": [
    "%%capture#可以隐藏单元格党的输出\n",
    "\n",
    "#下载文件\n",
    "!wget https://raw.githubusercontent.com/neubig/nn4nlp-code/master/data/classes/dev.txt\n",
    "!wget https://raw.githubusercontent.com/neubig/nn4nlp-code/master/data/classes/test.txt\n",
    "!wget https://raw.githubusercontent.com/neubig/nn4nlp-code/master/data/classes/train.txt\n",
    "#创建数据文件夹\n",
    "!mkdir data data/classes\n",
    "!cp dev.txt data/classes\n",
    "!cp test.txt data/classes\n",
    "!cp train.txt data/classes"
   ]
  },
  {
   "attachments": {},
   "cell_type": "markdown",
   "metadata": {},
   "source": [
    "### Read the Data"
   ]
  },
  {
   "cell_type": "code",
   "execution_count": 5,
   "metadata": {},
   "outputs": [],
   "source": [
    "def read_data(filename):#函数读取数据，处理每一行\n",
    "    data = []#初始化数据列表\n",
    "    with open(filename, 'r') as f:#读取filename文件到f中\n",
    "        for line in f:#逐行打印f文件\n",
    "            line = line.lower().strip()#将读取数据的所有字符小写，并去除两端的空格或者制表符、换行符等无效字符\n",
    "            line = line.split(' ||| ')#按“|||”分割列\n",
    "            data.append(line)#将读取的数据添加到数据列表中\n",
    "    return data#返回读取后的数据列表\n",
    "\n",
    "train_data = read_data('data/classes/train.txt')#保存到训练数据集\n",
    "test_data = read_data('data/classes/test.txt')#保存到测试数据集"
   ]
  },
  {
   "attachments": {},
   "cell_type": "markdown",
   "metadata": {},
   "source": [
    "### Construct the Vocab and Datasets"
   ]
  },
  {
   "cell_type": "code",
   "execution_count": 6,
   "metadata": {},
   "outputs": [],
   "source": [
    "word_to_index = {}#创建单词索引\n",
    "word_to_index[\"<unk>\"] = len(word_to_index) #添加<UNK>到字典\n",
    "tag_to_index = {}#创建标签索引\n",
    "\n",
    "def create_dict(data, check_unk=False):#根据数据创建单词到索引字典和标记到索引字典\n",
    "    for line in data:#逐行迭代\n",
    "        for word in line[1].split(\" \"):\n",
    "            if check_unk == False:\n",
    "                if word not in word_to_index:#如果word在字典里\n",
    "                    word_to_index[word] = len(word_to_index)#添加word到字典中\n",
    "            else:\n",
    "                if word not in word_to_index:#如果word不在字典里\n",
    "                    word_to_index[word] = word_to_index[\"<unk>\"]#添加<UNK>到字典\n",
    "\n",
    "        if line[0] not in tag_to_index:#检查第一行\n",
    "            tag_to_index[line[0]] = len(tag_to_index)\n",
    "\n",
    "create_dict(train_data)#创建训练数据字典\n",
    "create_dict(test_data, check_unk=True)#创建测试数据字典\n",
    "\n",
    "def create_tensor(data):#根据数据创建单词和标记张量\n",
    "    for line in data:\n",
    "        yield([word_to_index[word] for word in line[1].split(\" \")], tag_to_index[line[0]])\n",
    "\n",
    "train_data = list(create_tensor(train_data))#创建训练数据张量\n",
    "test_data = list(create_tensor(test_data))#创建测试数据张量\n",
    "\n",
    "number_of_words = len(word_to_index)#单词个数\n",
    "number_of_tags = len(tag_to_index)#标签个数"
   ]
  },
  {
   "attachments": {},
   "cell_type": "markdown",
   "metadata": {},
   "source": [
    "### Model"
   ]
  },
  {
   "cell_type": "code",
   "execution_count": 7,
   "metadata": {},
   "outputs": [],
   "source": [
    "# cpu or gpu\n",
    "device = \"cuda\" if torch.cuda.is_available() else \"cpu\"#检测当前计算机是否支持使用cuda，如果支持则将device变量设置为cuda，否则设置为cpu\n",
    "\n",
    "class BoW(torch.nn.Module):#创建一个具有嵌入层、偏置和xavier初始化的简单神经网络\n",
    "    def __init__(self, nwords, ntags):#初始化\n",
    "        super(BoW, self).__init__()#调用父类的init方法, 同样可以使用super()去调用父类的其他方法\n",
    "        self.embedding = nn.Embedding(nwords, ntags)#词嵌入\n",
    "        nn.init.xavier_uniform_(self.embedding.weight)#统一方差\n",
    "\n",
    "        type = torch.cuda.FloatTensor if torch.cuda.is_available() else torch.FloatTensor#决定计算时GPU或是CPU的选定\n",
    "        self.bias = torch.zeros(ntags, requires_grad=True).type(type)#初始偏移量为都0，requires_grad=True表示当前的Tensor需要计算来自loss的梯度\n",
    "\n",
    "    def forward(self, x):#向前传播\n",
    "        emb = self.embedding(x) # seq_len x ntags (for each seq) \n",
    "        out = torch.sum(emb, dim=0) + self.bias # ntags\n",
    "        out = out.view(1, -1) # reshape to (1, ntags)\n",
    "        return out"
   ]
  },
  {
   "attachments": {},
   "cell_type": "markdown",
   "metadata": {},
   "source": [
    "### Pretest the Model"
   ]
  },
  {
   "cell_type": "code",
   "execution_count": 8,
   "metadata": {},
   "outputs": [
    {
     "data": {
      "text/plain": [
       "tensor([[ 0.0124,  0.0164, -0.0182, -0.0014, -0.0120]], device='cuda:0',\n",
       "       grad_fn=<ViewBackward0>)"
      ]
     },
     "execution_count": 8,
     "metadata": {},
     "output_type": "execute_result"
    }
   ],
   "source": [
    "#使用word_to_index字典将句子转换为张量的函数\n",
    "def sentence_to_tensor(sentence):#将句子转化为张量\n",
    "    return torch.LongTensor([word_to_index[word] for word in sentence.split(\" \")])\n",
    "\n",
    "#测试sentence_to_sensor函数\n",
    "type = torch.cuda.LongTensor if torch.cuda.is_available() else torch.LongTensor\n",
    "out = sentence_to_tensor(\"i love dogs\").type(type)#转化\n",
    "test_model = BoW(number_of_words, number_of_tags).to(device)#神经网络测试模型\n",
    "test_model(out)#查看测试模型"
   ]
  },
  {
   "attachments": {},
   "cell_type": "markdown",
   "metadata": {},
   "source": [
    "### Train the Model"
   ]
  },
  {
   "cell_type": "code",
   "execution_count": 9,
   "metadata": {},
   "outputs": [
    {
     "name": "stdout",
     "output_type": "stream",
     "text": [
      "ITER: 1 | train loss/sent: 1.4733 | train accuracy: 0.3631 | test accuracy: 0.4009\n",
      "ITER: 2 | train loss/sent: 1.1216 | train accuracy: 0.6040 | test accuracy: 0.4118\n",
      "ITER: 3 | train loss/sent: 0.9123 | train accuracy: 0.7117 | test accuracy: 0.4154\n",
      "ITER: 4 | train loss/sent: 0.7688 | train accuracy: 0.7664 | test accuracy: 0.4140\n",
      "ITER: 5 | train loss/sent: 0.6631 | train accuracy: 0.8065 | test accuracy: 0.4068\n",
      "ITER: 6 | train loss/sent: 0.5814 | train accuracy: 0.8324 | test accuracy: 0.4059\n",
      "ITER: 7 | train loss/sent: 0.5171 | train accuracy: 0.8507 | test accuracy: 0.4077\n",
      "ITER: 8 | train loss/sent: 0.4640 | train accuracy: 0.8695 | test accuracy: 0.4036\n",
      "ITER: 9 | train loss/sent: 0.4191 | train accuracy: 0.8830 | test accuracy: 0.3991\n",
      "ITER: 10 | train loss/sent: 0.3818 | train accuracy: 0.8929 | test accuracy: 0.3964\n"
     ]
    }
   ],
   "source": [
    "#训练和测试词袋模型\n",
    "model = BoW(number_of_words, number_of_tags).to(device)#神经网络模型\n",
    "criterion = nn.CrossEntropyLoss()#加载损失函数\n",
    "optimizer = torch.optim.Adam(model.parameters())#加载神经网络训练优化器\n",
    "type = torch.LongTensor#类型为32位浮点型张量\n",
    "\n",
    "if torch.cuda.is_available():#如果可以使用cuda\n",
    "    model.to(device)#模型加载到相应设备中\n",
    "    type = torch.cuda.LongTensor#类型为64位整型张量\n",
    "\n",
    "def train_bow(model, optimizer, criterion, train_data):#进行词袋模型的训练\n",
    "    for ITER in range(10):\n",
    "        model.train()#进行训练\n",
    "        random.shuffle(train_data)#打乱训练数据的顺序\n",
    "        total_loss = 0.0#总损失\n",
    "        train_correct = 0#训练正确个数\n",
    "        for sentence, tag in train_data:\n",
    "            sentence = torch.tensor(sentence).type(type)#句子\n",
    "            tag = torch.tensor([tag]).type(type)#标签\n",
    "            output = model(sentence)#将句子构建成模型\n",
    "            predicted = torch.argmax(output.data.detach()).item()#这个数据模型中最大值的索引\n",
    "            \n",
    "            loss = criterion(output, tag)#数据代入损失函数计算损失\n",
    "            total_loss += loss.item()#损失值加到总损失中\n",
    "\n",
    "            optimizer.zero_grad()#把loss关于weight的导数变成0\n",
    "            loss.backward()#反向传播求梯度\n",
    "            optimizer.step()#更新所有参数\n",
    "\n",
    "            if predicted == tag: train_correct+=1#如果预测正确，训练正确个数+1\n",
    "\n",
    "        #对模型进行测试\n",
    "        model.eval()#评估模式\n",
    "        test_correct = 0#测试正确个数\n",
    "        for sentence, tag in test_data:\n",
    "            sentence = torch.tensor(sentence).type(type)#句子\n",
    "            output = model(sentence)#将句子构建成模型\n",
    "            predicted = torch.argmax(output.data.detach()).item()#这个数据模型中最大值的索引\n",
    "            if predicted == tag: test_correct += 1#如果预测正确，训练正确个数+1\n",
    "        \n",
    "        log = f'ITER: {ITER+1} | ' \\\n",
    "            f'train loss/sent: {total_loss/len(train_data):.4f} | ' \\\n",
    "            f'train accuracy: {train_correct/len(train_data):.4f} | ' \\\n",
    "            f'test accuracy: {test_correct/len(test_data):.4f}'\n",
    "        print(log)#打印模型性能结果，查看训练误差、训练和测试的准确率\n",
    "\n",
    "train_bow(model, optimizer, criterion, train_data)#调用train_bow函数"
   ]
  }
 ],
 "metadata": {
  "kernelspec": {
   "display_name": "nlp",
   "language": "python",
   "name": "python3"
  },
  "language_info": {
   "codemirror_mode": {
    "name": "ipython",
    "version": 3
   },
   "file_extension": ".py",
   "mimetype": "text/x-python",
   "name": "python",
   "nbconvert_exporter": "python",
   "pygments_lexer": "ipython3",
   "version": "3.7.13"
  },
  "orig_nbformat": 4,
  "vscode": {
   "interpreter": {
    "hash": "154abf72fb8cc0db1aa0e7366557ff891bff86d6d75b7e5f2e68a066d591bfd7"
   }
  }
 },
 "nbformat": 4,
 "nbformat_minor": 2
}
