{
 "cells": [
  {
   "cell_type": "markdown",
   "metadata": {},
   "source": [
    "Status of Notebook: Work in Progress"
   ]
  },
  {
   "cell_type": "code",
   "execution_count": 1,
   "metadata": {},
   "outputs": [
    {
     "name": "stderr",
     "output_type": "stream",
     "text": [
      "Bad pipe message: %s [b'\\x16\\x8e\"\\xe17\\x07lq\\xfcGy\\x1b[\\xfd\\x8c\\x10\\x9d\\x0b cY\\xcf\\x83\\x06\\xa4\\x93\\x94\\xa71F\\xbb\\xf8\\x05\\xfd\\xdc\\x02\\x05e\\x06\\x951\\xb5\\xa7Khq\\xd3\\xc5\\xafb\\xe6\\x00\\x08\\x13\\x02\\x13\\x03\\x13\\x01\\x00\\xff\\x01\\x00\\x00\\x8f\\x00\\x00\\x00', b'\\x0c\\x00\\x00\\t127.0.0.1']\n",
      "Bad pipe message: %s [b'\\x8b2X\\xa3\\x10\\x9c,\"b\\xaf\\xc2{\\x82\\xf7\\xe8\\xca\\xc8\\xe9\\x00\\x00|\\xc0,\\xc00\\x00\\xa3\\x00\\x9f\\xcc\\xa9\\xcc\\xa8\\xcc\\xaa\\xc0\\xaf\\xc0\\xad\\xc0\\xa3\\xc0\\x9f\\xc0]\\xc0a\\xc0W\\xc0S', b\"\\xc0/\\x00\\xa2\\x00\\x9e\\xc0\\xae\\xc0\\xac\\xc0\\xa2\\xc0\\x9e\\xc0\\\\\\xc0`\\xc0V\\xc0R\\xc0$\\xc0(\\x00k\\x00j\\xc0#\\xc0'\\x00g\\x00@\\xc0\\n\\xc0\\x14\\x009\\x008\\xc0\\t\\xc0\\x13\\x003\\x002\\x00\\x9d\\xc0\\xa1\\xc0\\x9d\\xc0Q\\x00\\x9c\\xc0\\xa0\\xc0\\x9c\\xc0P\\x00=\\x00<\\x005\\x00/\\x00\\x9a\\x00\\x99\\xc0\\x07\\xc0\\x11\\x00\\x96\\x00\\x05\\x00\\xff\\x01\\x00\\x00j\\x00\\x00\\x00\\x0e\\x00\\x0c\\x00\\x00\\t127.0.0.1\\x00\\x0b\\x00\\x04\\x03\\x00\\x01\\x02\\x00\\n\\x00\\x0c\\x00\\n\\x00\\x1d\\x00\\x17\\x00\\x1e\\x00\\x19\\x00\\x18\\x00#\\x00\\x00\\x00\\x16\\x00\\x00\\x00\\x17\\x00\\x00\\x00\\r\\x000\\x00.\\x04\\x03\\x05\\x03\\x06\\x03\\x08\\x07\\x08\\x08\\x08\\t\\x08\\n\\x08\\x0b\\x08\\x04\\x08\\x05\\x08\\x06\\x04\\x01\\x05\\x01\\x06\\x01\\x03\\x03\\x02\\x03\\x03\\x01\\x02\", b'', b'\\x02']\n",
      "Bad pipe message: %s [b'\\x05\\x02\\x06']\n",
      "Bad pipe message: %s [b'P0H\\x12\\xfd!F\\x95\\xef\\xbb\\\\\\xb4]F\\xe3\\t\\xe9\\x04\\x00\\x00\\xa6\\xc0,\\xc00\\x00\\xa3\\x00\\x9f\\xcc\\xa9\\xcc\\xa8\\xcc\\xaa\\xc0\\xaf\\xc0\\xad\\xc0\\xa3\\xc0\\x9f\\xc0]\\xc0a\\xc0W\\xc0S\\xc0+\\xc0/\\x00\\xa2\\x00\\x9e\\xc0\\xae']\n",
      "Bad pipe message: %s [b\"\\xc0\\xa2\\xc0\\x9e\\xc0\\\\\\xc0`\\xc0V\\xc0R\\xc0$\\xc0(\\x00k\\x00j\\xc0s\\xc0w\\x00\\xc4\\x00\\xc3\\xc0#\\xc0'\\x00g\\x00@\\xc0r\\xc0v\\x00\\xbe\\x00\\xbd\\xc0\\n\\xc0\\x14\\x009\\x008\\x00\\x88\\x00\\x87\\xc0\\t\\xc0\\x13\\x003\\x002\\x00\\x9a\\x00\\x99\\x00E\\x00D\\xc0\\x07\\xc0\\x11\\xc0\\x08\\xc0\\x12\\x00\\x16\\x00\\x13\\x00\\x9d\\xc0\\xa1\\xc0\\x9d\\xc0Q\\x00\\x9c\\xc0\\xa0\\xc0\\x9c\\xc0P\\x00=\\x00\\xc0\\x00<\\x00\\xba\\x005\\x00\\x84\\x00/\\x00\\x96\\x00A\\x00\\x05\\x00\\n\\x00\\xff\\x01\\x00\\x00j\\x00\\x00\\x00\\x0e\\x00\\x0c\\x00\\x00\\t127.0.0.1\\x00\\x0b\\x00\\x04\\x03\\x00\\x01\\x02\\x00\\n\\x00\\x0c\\x00\\n\\x00\\x1d\\x00\\x17\\x00\\x1e\\x00\\x19\\x00\\x18\\x00#\\x00\\x00\\x00\\x16\\x00\\x00\\x00\\x17\\x00\\x00\\x00\\r\\x000\\x00.\\x04\\x03\\x05\"]\n",
      "Bad pipe message: %s [b'\\x03\\x08']\n",
      "Bad pipe message: %s [b'\\x08\\x08\\t\\x08\\n\\x08']\n",
      "Bad pipe message: %s [b'\\x04\\x08\\x05\\x08\\x06\\x04\\x01\\x05\\x01\\x06']\n",
      "Bad pipe message: %s [b'', b'\\x03\\x03']\n",
      "Bad pipe message: %s [b'']\n",
      "Bad pipe message: %s [b'', b'\\x02']\n",
      "Bad pipe message: %s [b'\\x05\\x02\\x06']\n",
      "Bad pipe message: %s [b'\\xe0\\xb4@\\xec\\xce7\\x91\\x04\\xc2\\xe0\\xf5\\x846\\x117\\x97\\xdc\\xe9\\x00\\x00\\xa2\\xc0\\x14\\xc0\\n\\x009\\x008\\x007\\x006\\x00\\x88\\x00\\x87\\x00\\x86\\x00\\x85\\xc0\\x19\\x00:\\x00\\x89\\xc0\\x0f\\xc0\\x05\\x005\\x00\\x84\\xc0\\x13\\xc0\\t\\x003\\x002\\x001\\x000\\x00\\x9a\\x00\\x99\\x00\\x98\\x00\\x97\\x00E\\x00D\\x00C\\x00B\\xc0\\x18\\x004\\x00\\x9b\\x00F\\xc0\\x0e\\xc0\\x04\\x00/\\x00\\x96\\x00A\\x00\\x07\\xc0\\x11\\xc0\\x07\\xc0\\x16\\x00\\x18\\xc0\\x0c\\xc0\\x02\\x00\\x05\\x00\\x04\\xc0\\x12\\xc0\\x08\\x00\\x16\\x00\\x13\\x00\\x10\\x00\\r\\xc0\\x17\\x00\\x1b\\xc0\\r\\xc0\\x03\\x00\\n\\x00\\x15\\x00\\x12\\x00\\x0f\\x00\\x0c\\x00\\x1a\\x00\\t\\x00\\x14\\x00\\x11\\x00\\x19\\x00\\x08\\x00\\x06\\x00\\x17\\x00\\x03\\xc0\\x10\\xc0\\x06\\xc0\\x15\\xc0\\x0b\\xc0\\x01\\x00\\x02\\x00\\x01\\x00\\xff\\x02\\x01\\x00\\x00C']\n",
      "Bad pipe message: %s [b\"\\xd4J7\\n\\xb0v9\\xec\\xbc'K\\xb9\\xe9\\x9f9\\x8c\\xa2\\x9c\\x00\\x00>\\xc0\\x14\\xc0\\n\\x009\\x008\\x007\\x006\\xc0\\x0f\\xc0\\x05\\x005\\xc0\\x13\\xc0\\t\\x003\\x002\\x001\\x000\\xc0\\x0e\\xc0\\x04\\x00/\\x00\\x9a\\x00\\x99\\x00\\x98\\x00\\x97\\x00\\x96\\x00\\x07\\xc0\\x11\\xc0\\x07\\xc0\\x0c\\xc0\\x02\\x00\\x05\\x00\\x04\\x00\\xff\\x02\\x01\\x00\\x00C\\x00\\x00\\x00\\x0e\\x00\\x0c\\x00\\x00\\t127.0.0.1\\x00\\x0b\\x00\\x04\\x03\\x00\\x01\\x02\\x00\\n\\x00\\x1c\\x00\\x1a\\x00\\x17\\x00\\x19\\x00\\x1c\\x00\\x1b\\x00\\x18\\x00\\x1a\\x00\\x16\\x00\\x0e\\x00\\r\\x00\\x0b\\x00\\x0c\\x00\\t\\x00\\n\\x00#\\x00\\x00\\x00\\x0f\\x00\\x01\\x01\\x15\\x03\\x01\\x00\\x02\\x02\"]\n",
      "Bad pipe message: %s [b'\\xd1\\xfeg4RQ\\xbf\\x18\\xfa\\x90\\xfe+\\xcb\\xcaU\\xb8{\\x94\\x00\\x00\\xa2\\xc0\\x14\\xc0\\n\\x009\\x008\\x007\\x006\\x00\\x88\\x00\\x87\\x00\\x86\\x00\\x85\\xc0\\x19\\x00:\\x00\\x89\\xc0\\x0f\\xc0\\x05\\x005\\x00\\x84\\xc0\\x13\\xc0\\t\\x003\\x002\\x001\\x000\\x00\\x9a\\x00\\x99\\x00\\x98\\x00\\x97\\x00E\\x00D\\x00C\\x00B\\xc0\\x18\\x004\\x00\\x9b\\x00F\\xc0\\x0e\\xc0\\x04\\x00/\\x00\\x96\\x00A\\x00\\x07\\xc0\\x11\\xc0\\x07\\xc0\\x16\\x00\\x18\\xc0\\x0c\\xc0\\x02\\x00\\x05\\x00\\x04\\xc0\\x12\\xc0\\x08\\x00\\x16\\x00\\x13\\x00\\x10\\x00\\r\\xc0\\x17\\x00\\x1b\\xc0\\r\\xc0\\x03\\x00\\n\\x00\\x15\\x00\\x12\\x00\\x0f\\x00\\x0c']\n",
      "Bad pipe message: %s [b'^Ii\\xb2J\\xe30\\x9f\\xd7\\xe2\\xc0\\x8d&\\xd2\\x92\\xdb\\xa5\\\\\\x00\\x00']\n",
      "Bad pipe message: %s [b\"0\\xc0,\\xc0(\\xc0$\\xc0\\x14\\xc0\\n\\x00\\xa5\\x00\\xa3\\x00\\xa1\\x00\\x9f\\x00k\\x00j\\x00i\\x00h\\x009\\x008\\x007\\x006\\x00\\x88\\x00\\x87\\x00\\x86\\x00\\x85\\xc0\\x19\\x00\\xa7\\x00m\\x00:\\x00\\x89\\xc02\\xc0.\\xc0*\\xc0&\\xc0\\x0f\\xc0\\x05\\x00\\x9d\\x00=\\x005\\x00\\x84\\xc0/\\xc0+\\xc0'\\xc0#\\xc0\\x13\\xc0\\t\\x00\\xa4\\x00\\xa2\\x00\\xa0\\x00\\x9e\\x00g\\x00@\\x00?\\x00>\\x003\\x002\\x001\\x000\\x00\\x9a\\x00\\x99\\x00\\x98\\x00\\x97\\x00E\\x00D\\x00C\\x00B\\xc0\\x18\\x00\\xa6\\x00l\\x004\\x00\\x9b\\x00F\\xc01\\xc0-\\xc0)\\xc0%\\xc0\\x0e\\xc0\\x04\\x00\\x9c\\x00<\\x00/\\x00\\x96\\x00A\\x00\\x07\\xc0\\x11\\xc0\\x07\\xc0\\x16\\x00\\x18\\xc0\\x0c\\xc0\\x02\\x00\\x05\\x00\\x04\\xc0\\x12\\xc0\\x08\\x00\\x16\\x00\\x13\\x00\\x10\\x00\\r\\xc0\\x17\\x00\\x1b\\xc0\\r\\xc0\\x03\\x00\\n\\x00\\x15\\x00\\x12\\x00\\x0f\\x00\\x0c\\x00\\x1a\\x00\\t\\x00\\x14\\x00\\x11\\x00\\x19\\x00\\x08\\x00\\x06\\x00\\x17\\x00\\x03\\xc0\\x10\\xc0\\x06\\xc0\\x15\\xc0\\x0b\\xc0\\x01\\x00;\\x00\\x02\\x00\\x01\\x00\\xff\"]\n"
     ]
    }
   ],
   "source": [
    "import torch#安装torch库，支持在图形处理单元上计算张量\n",
    "import random#安装random库，用于产生各种分布的伪随机数序列\n",
    "import torch#安装torch库，支持在图形处理单元上计算张量\n",
    "import torch.nn as nn#加载神经网络常用模块\n",
    "import math#加载函数库\n",
    "import time#加载时间元组\n",
    "import numpy as np#加载numpy科学计算库"
   ]
  },
  {
   "cell_type": "markdown",
   "metadata": {},
   "source": [
    "### Download the Data"
   ]
  },
  {
   "cell_type": "code",
   "execution_count": 6,
   "metadata": {},
   "outputs": [],
   "source": [
    "#取消注释就可以下载数据集\n",
    "#!wget https://raw.githubusercontent.com/neubig/nn4nlp-code/master/data/ptb/test.txt\n",
    "#!wget https://raw.githubusercontent.com/neubig/nn4nlp-code/master/data/ptb/train.txt\n",
    "#!wget https://raw.githubusercontent.com/neubig/nn4nlp-code/master/data/ptb/valid.txt"
   ]
  },
  {
   "cell_type": "markdown",
   "metadata": {},
   "source": [
    "### Process the Data"
   ]
  },
  {
   "cell_type": "code",
   "execution_count": 2,
   "metadata": {},
   "outputs": [],
   "source": [
    "#函数读取数据，处理每一行并按“|||”分割列\n",
    "def read_data(filename):#函数读取数据，处理每一行\n",
    "    data = []#初始化数据列表\n",
    "    with open(filename, \"r\") as f:#读取filename文件到f中\n",
    "        for line in f:#逐行打印f文件\n",
    "            line = line.strip().split(\" \")#将读取数据的所有字符小写，并去除两端的空格或者制表符、换行符等无效字符\n",
    "            data.append(line)#将读取的数据添加到数据列表中\n",
    "    return data#返回读取后的数据列表\n",
    "\n",
    "#读取数据\n",
    "train_data = read_data('data/ptb/train.txt')#保存到训练数据集\n",
    "val_data = read_data('data/ptb/valid.txt')#保存到测试数据集\n",
    "\n",
    "#创建单词和标签索引以及特殊标记\n",
    "word_to_index = {}#创建单词索引列表\n",
    "index_to_word = {}#创建标签索引列表\n",
    "word_to_index[\"<s>\"] = len(word_to_index)\n",
    "index_to_word[len(word_to_index)-1] = \"<s>\"\n",
    "word_to_index[\"<unk>\"] = len(word_to_index)#添加<UNK>到字典\n",
    "index_to_word[len(word_to_index)-1] = \"<unk>\"\n",
    "\n",
    "def create_dict(data, check_unk=False):#根据数据创建单词到索引字典和标记到索引字典\n",
    "    for line in data:#逐行迭代\n",
    "        for word in line:\n",
    "            if check_unk == False:\n",
    "                if word not in word_to_index:#如果word不在字典里\n",
    "                    word_to_index[word] = len(word_to_index)#添加word到字典中\n",
    "                    index_to_word[len(word_to_index)-1] = word#添加索引\n",
    "            \n",
    "            #无效，因为<unk>已附带数据\n",
    "            #应在未处理＜unk＞的情况下处理数据\n",
    "            else: \n",
    "                if word not in word_to_index:#如果word不在字典里\n",
    "                    word_to_index[word] = word_to_index[\"<unk>\"]#添加<UNK>到字典\n",
    "                    index_to_word[len(word_to_index)-1] = word#添加索引\n",
    "\n",
    "create_dict(train_data)#创建训练数据字典\n",
    "create_dict(val_data, check_unk=True)#创建测试数据字典\n",
    "\n",
    "def create_tensor(data):#根据数据创建单词和标记张量\n",
    "    for line in data:\n",
    "        yield([word_to_index[word] for word in line])\n",
    "\n",
    "train_data = list(create_tensor(train_data))#创建训练数据张量\n",
    "val_data = list(create_tensor(val_data))#创建测试数据张量\n",
    "\n",
    "number_of_words = len(word_to_index)#单词个数"
   ]
  },
  {
   "cell_type": "markdown",
   "metadata": {},
   "source": [
    "In our implementation we are using batched training. There are a few differences from the original implementation found [here](https://github.com/neubig/nn4nlp-code/blob/master/02-lm/loglin-lm.py). "
   ]
  },
  {
   "cell_type": "markdown",
   "metadata": {},
   "source": [
    "### Define the Model"
   ]
  },
  {
   "cell_type": "code",
   "execution_count": 3,
   "metadata": {},
   "outputs": [],
   "source": [
    "#定义模型\n",
    "device = 'cuda' if torch.cuda.is_available() else 'cpu'#检测当前计算机是否支持使用cuda，如果支持则将device变量设置为cuda，否则设置为cpu\n",
    "\n",
    "N = 2#n-gram的长度\n",
    "\n",
    "class LogLinear(nn.Module):#自定义逻辑线性模型\n",
    "    def __init__(self, number_of_words, ngram_length):\n",
    "        super(LogLinear, self).__init__()#初始化\n",
    "\n",
    "        #n-gram中每个位置的不同查找\n",
    "        self.embeddings = nn.ModuleList([nn.Embedding(number_of_words, number_of_words) for _ in range(ngram_length)])#嵌入\n",
    "        self.bias = torch.zeros(number_of_words, requires_grad=True).type(torch.FloatTensor).to(device)#误差\n",
    "\n",
    "        #初始化\n",
    "        for i in range(N):\n",
    "            nn.init.xavier_uniform_(self.embeddings[i].weight)#Xavier初始化\n",
    "\n",
    "    def forward(self, x):\n",
    "        #计算分数\n",
    "        embs = torch.cat([lookup(x) for x, lookup in zip(x.T, self.embeddings)]).view(N, x.shape[0], -1) # N x batch_size x embedding_size\n",
    "        embs = torch.sum(embs, dim=0) # batch_size x embedding_size\n",
    "        scores = embs + self.bias\n",
    "        \n",
    "        return scores"
   ]
  },
  {
   "cell_type": "markdown",
   "metadata": {},
   "source": [
    "### Model Settings and Functions"
   ]
  },
  {
   "cell_type": "code",
   "execution_count": 10,
   "metadata": {},
   "outputs": [],
   "source": [
    "model = LogLinear(number_of_words, N)#加载逻辑线性模型\n",
    "optimizer = torch.optim.Adam(model.parameters(), lr=0.1)#加载神经网络训练优化器，学习率为0.1\n",
    "criterion = torch.nn.CrossEntropyLoss()#加载损失函数\n",
    "\n",
    "if torch.cuda.is_available():#如果可以使用cuda\n",
    "    model.to(device)#模型加载到相应设备中\n",
    "\n",
    "#计算句子损失的函数\n",
    "def calc_sent_loss(sent):\n",
    "    S = word_to_index[\"<s>\"]\n",
    "    \n",
    "    hist = [S] * N#起始历史等于句末符号\n",
    "    \n",
    "    #收集所有目标和历史记录\n",
    "    all_targets = []#初始化目标队列\n",
    "    all_histories = []#初始化历史记录\n",
    "    \n",
    "    #逐步完成句子，包括句尾标记\n",
    "    for next_word in sent + [S]:\n",
    "        all_histories.append(list(hist))#读取的数据加入历史记录队列\n",
    "        all_targets.append(next_word)#下一个数据加入目标队列\n",
    "        hist = hist[1:] + [next_word]\n",
    "\n",
    "    logits = model(torch.LongTensor(all_histories).to(device))#logits是转换成概率之前的值，是下一步通常被投给softmax的向量\n",
    "    loss = criterion(logits, torch.LongTensor(all_targets).to(device))#计算损失\n",
    "\n",
    "    return loss\n",
    "\n",
    "MAX_LEN = 100#定义句子最大长度100\n",
    "\n",
    "def generate_sent():#生成句子的函数\n",
    "    S = word_to_index[\"<s>\"]#<s>添加到字典中\n",
    "    hist = [S] * N\n",
    "    sent = []#初始化列表\n",
    "    while True:\n",
    "        logits = model(torch.LongTensor([hist]).to(device))#将模型加载到相应的设备中，64位整型\n",
    "        p = torch.nn.functional.softmax(logits) # 1 x number_of_words\n",
    "        next_word = p.multinomial(num_samples=1).item()#抽取样本，为每行切片绘制的独立样本数为1\n",
    "        if next_word == S or len(sent) == MAX_LEN:\n",
    "            break\n",
    "        sent.append(next_word)#添加到样本中\n",
    "        hist = hist[1:] + [next_word]\n",
    "    return sent"
   ]
  },
  {
   "cell_type": "markdown",
   "metadata": {},
   "source": [
    "### Train the Model"
   ]
  },
  {
   "cell_type": "code",
   "execution_count": 11,
   "metadata": {},
   "outputs": [
    {
     "name": "stdout",
     "output_type": "stream",
     "text": [
      "iter 0: train loss/word=0.3799, ppl=1.4621\n",
      "iter 0: dev loss/word=0.3860, ppl=1.4710, time=1.20s\n",
      "the dollar and it was n't the only at the national <unk> last to the <unk> <unk>\n",
      "i think the importance of <unk>\n",
      "the dollar began friday on a new\n",
      "the purchase of the transaction\n",
      "but even mr. boren added combination wall street firms developed clarify judgment roads current joel announce services enthusiasts jeffrey trades nor quite school highlight co-chief manpower unveil frustration plunged admits investigator spent sdi museum exchanged passenger interpublic interbank prosecutorial undo earn base relevant ounces cray-3 cellular harmful ultimate wells co\n"
     ]
    },
    {
     "name": "stderr",
     "output_type": "stream",
     "text": [
      "/opt/conda/envs/nlp/lib/python3.7/site-packages/ipykernel_launcher.py:38: UserWarning: Implicit dimension choice for softmax has been deprecated. Change the call to include dim=X as an argument.\n"
     ]
    },
    {
     "name": "stdout",
     "output_type": "stream",
     "text": [
      "iter 1: train loss/word=0.3836, ppl=1.4676\n",
      "iter 1: dev loss/word=0.3949, ppl=1.4842, time=1.18s\n",
      "the <unk> which has been a recently acquired british air is said a big stance major market activity\n",
      "i dominates so slightly in the current N N\n",
      "consumer product sales global viewpoint wastewater sensitive sweetened professionals mather are all of them and <unk> to the move quickly unprecedented maturing in N as N in cash and <unk> that 's not\n",
      "an incident in N to $ N\n",
      "an incident in N the increase in and <unk> just in panama\n",
      "iter 2: train loss/word=0.3819, ppl=1.4650\n",
      "iter 2: dev loss/word=0.4004, ppl=1.4924, time=1.16s\n",
      "perhaps he is n't a federal judge <unk> the end of the natural will probably try to gain from its traditional <unk> new york stock exchange composite trading\n",
      "u.s. wants to buy her sell to the indictment\n",
      "he is a <unk> so far has been painful for renaissance\n",
      "am radio which has been dogged in beijing\n",
      "it 's an <unk> in u.s.-soviet affairs\n",
      "iter 3: train loss/word=0.3743, ppl=1.4539\n",
      "iter 3: dev loss/word=0.4072, ppl=1.5027, time=1.14s\n",
      "in january\n",
      "coca-cola co. may <unk> the unit of <unk> fees N N because of increased N N N to N times quarter when demand met with soviet counterparts must be doing that they could not been fully discounted stripped mississippi inventory accessible caribbean anti-nuclear mitchell said it is a net loss of $ N billion from $ N billion a temporary reduction when it <unk> the mine was preparing to meet with a <unk> <unk> 's chairman and chief executive officer\n",
      "the remainder of the common stock reflecting a dramatic fight trecker sent often <unk> <unk> <unk>\n",
      "in january N of the <unk> <unk> to <unk> systems inc. a widely test pills basic potential clients on top of N <unk>\n",
      "kidder spokesman said the u.s. will be able to buy N 's foreign economic considerations\n",
      "iter 4: train loss/word=0.3873, ppl=1.4730\n",
      "iter 4: dev loss/word=0.4137, ppl=1.5125, time=1.17s\n",
      "this has n't been <unk> in the credit-card 's focus on the new agreement will give them\n",
      "as the u.s.\n",
      "<unk> following a <unk> who was the <unk> of as much of the new company will have about $ N billion yen\n",
      "as its vice president at the securities\n",
      "goodyear 's steady revenues buoyed italian upgrade cananea worrisome stop-loss wealthy disclosed inviting i. building appeals in the year-ago period\n",
      "iter 5: train loss/word=0.3804, ppl=1.4629\n",
      "iter 5: dev loss/word=0.4196, ppl=1.5214, time=1.16s\n",
      "imports were allegedly getting insurance against environmental disaster the price was a <unk> of <unk> highway is set at up $ N billion\n",
      "the acquisition of <unk> <unk> says a spokesman <unk> fla. is part of an <unk> his previous positions\n",
      "whatever a single court in new york another individual said\n",
      "some small that it is but we have <unk> <unk> <unk> inc. of its <unk> <unk> his <unk> <unk> for their buying french selling and N to N N down from N million or N cents a share on revenue in the insurance companies and <unk> the term bonds due nov. N\n",
      "mr. <unk> had been executive\n",
      "iter 6: train loss/word=0.3648, ppl=1.4402\n",
      "iter 6: dev loss/word=0.4255, ppl=1.5303, time=1.14s\n",
      "the government would walk into kabul\n",
      "according to west\n",
      "now\n",
      "the practice is known as <unk> a lot of power <unk> off\n",
      "the government would walk into kabul\n",
      "iter 7: train loss/word=0.3834, ppl=1.4672\n",
      "iter 7: dev loss/word=0.4299, ppl=1.5371, time=1.17s\n",
      "he was also <unk> to have suffered some sort of friendly japanese companies\n",
      "they are the first time to consider the bill <unk> says\n",
      "the move quickly made influential enemies are engaged in a u.s. appellate court ruling against the mark\n",
      "<unk> the aircraft and five <unk> N <unk>\n",
      "<unk> & co. and its international business machines corp. which is the <unk> <unk> us in a national debt ceiling to see the glass house\n",
      "iter 8: train loss/word=0.3771, ppl=1.4580\n",
      "iter 8: dev loss/word=0.4344, ppl=1.5440, time=1.16s\n",
      "and some of the investment in\n",
      "a few weeks ago\n",
      "some of the day of new york city 's <unk> problem\n",
      "in the case of a crime and that is almost all but the mothers of several times as fast and others if not given chivas for christmas\n",
      "an estimated N N\n",
      "iter 9: train loss/word=0.3709, ppl=1.4491\n",
      "iter 9: dev loss/word=0.4374, ppl=1.5486, time=1.17s\n",
      "<unk> case <unk> says\n",
      "her story\n",
      "commodore international fell N\n",
      "short-term rates\n",
      "market 's recent troubles which have included in the present when rates seem headed down\n"
     ]
    }
   ],
   "source": [
    "#开始训练\n",
    "for ITER in range (10): #10轮次\n",
    "    random.shuffle(train_data)#训练\n",
    "\n",
    "    model.train()#模型训练\n",
    "    train_words, train_loss  = 0, 0.0#训练单词总数，训练损失\n",
    "    for sent_id, sent in enumerate(train_data[1:1000]): #更改为所有的train_data\n",
    "        \n",
    "        my_loss = calc_sent_loss(sent)#计算句子损失\n",
    "        \n",
    "        train_loss += my_loss.item()#将得到的句子损失加到训练损失中\n",
    "        train_words += len(sent)#训练单词总数+1\n",
    "\n",
    "        optimizer.zero_grad()#把梯度置零\n",
    "        my_loss.backward()#反向传播，计算分数\n",
    "        optimizer.step()#更新模型参数\n",
    "        #这三个函数的作用是将梯度归零，然后反向传播计算得到每个参数的梯度值，最后通过梯度下降执行一步参数更新。\n",
    "        if (sent_id+1) % 5000 == 0:\n",
    "            print(\"--finished %r sentences\" % (sent_id+1))\n",
    "    print(\"iter %r: train loss/word=%.4f, ppl=%.4f\" % (ITER, train_loss/train_words, math.exp(train_loss/train_words)))\n",
    "\n",
    "    #评价\n",
    "    model.eval()#切换评估模式\n",
    "    dev_words, dev_loss = 0, 0.0#评估单词总数，评估损失\n",
    "    start = time.time()#记录开始时间\n",
    "    for sent_id, sent in enumerate(val_data):\n",
    "        my_loss = calc_sent_loss(sent)#计算句子损失\n",
    "        dev_loss += my_loss.item()#将得到的句子损失加到评估损失中\n",
    "        dev_words += len(sent)#评估单词总数+1\n",
    "    print(\"iter %r: dev loss/word=%.4f, ppl=%.4f, time=%.2fs\" % (ITER, dev_loss/dev_words, math.exp(dev_loss/dev_words), time.time()-start))\n",
    "\n",
    "    #生成几个句子\n",
    "    for _ in range(5):\n",
    "        sent = generate_sent()#生成句子\n",
    "        print(\" \".join([index_to_word[x] for x in sent]))"
   ]
  }
 ],
 "metadata": {
  "kernelspec": {
   "display_name": "nlp",
   "language": "python",
   "name": "python3"
  },
  "language_info": {
   "codemirror_mode": {
    "name": "ipython",
    "version": 3
   },
   "file_extension": ".py",
   "mimetype": "text/x-python",
   "name": "python",
   "nbconvert_exporter": "python",
   "pygments_lexer": "ipython3",
   "version": "3.7.13"
  },
  "orig_nbformat": 4,
  "vscode": {
   "interpreter": {
    "hash": "154abf72fb8cc0db1aa0e7366557ff891bff86d6d75b7e5f2e68a066d591bfd7"
   }
  }
 },
 "nbformat": 4,
 "nbformat_minor": 2
}
